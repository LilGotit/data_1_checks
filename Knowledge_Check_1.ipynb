{
 "cells": [
  {
   "cell_type": "markdown",
   "metadata": {},
   "source": [
    "Test"
   ]
  },
  {
   "cell_type": "code",
   "execution_count": null,
   "metadata": {},
   "outputs": [],
   "source": [
    "import requests\n",
    "response = requests.get(\"http://api.open-notify.org/astros.json\")\n",
    "json = response.json()"
   ]
  },
  {
   "cell_type": "code",
   "execution_count": 6,
   "metadata": {},
   "outputs": [
    {
     "name": "stdout",
     "output_type": "stream",
     "text": [
      "Space contains these known individuals:\n",
      "Sergey Prokopyev\n",
      "Dmitry Petelin\n",
      "Frank Rubio\n",
      "Nicole Mann\n",
      "Josh Cassada\n",
      "Koichi Wakata\n",
      "Anna Kikina\n",
      "Fei Junlong\n",
      "Deng Qingming\n",
      "Zhang Lu\n"
     ]
    }
   ],
   "source": [
    "print(\"Space contains these known individuals:\")\n",
    "for person in json[\"people\"]:\n",
    "    print(person[\"name\"])"
   ]
  }
 ],
 "metadata": {
  "kernelspec": {
   "display_name": "Python 3",
   "language": "python",
   "name": "python3"
  },
  "language_info": {
   "codemirror_mode": {
    "name": "ipython",
    "version": 3
   },
   "file_extension": ".py",
   "mimetype": "text/x-python",
   "name": "python",
   "nbconvert_exporter": "python",
   "pygments_lexer": "ipython3",
   "version": "3.9.13"
  },
  "orig_nbformat": 4,
  "vscode": {
   "interpreter": {
    "hash": "06bdc651400f9c0aa4bf72105d116f15d3a9f668c47c99b1fb55419107878302"
   }
  }
 },
 "nbformat": 4,
 "nbformat_minor": 2
}
