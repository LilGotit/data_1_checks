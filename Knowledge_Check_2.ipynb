{
 "cells": [
  {
   "attachments": {},
   "cell_type": "markdown",
   "metadata": {},
   "source": [
    "Make a .py (or .ipynb) file that contains the following (your choice of editor does not matter!) and do the following:\n",
    "find and access a data set in any way you want. You can use an API, a CSV, anything."
   ]
  },
  {
   "cell_type": "code",
   "execution_count": null,
   "metadata": {
    "vscode": {
     "languageId": "plaintext"
    }
   },
   "outputs": [],
   "source": []
  },
  {
   "attachments": {},
   "cell_type": "markdown",
   "metadata": {},
   "source": [
    "Fix TWO issues with the data set using techniques you've learned in class.\n",
    "\n",
    "Here are some common fixes:\n",
    "*Remove null values\n",
    "*Fill in null values with 0's or blanks\n",
    "*fill in blanks\n",
    "*fix character strings that aren't formatted correctly (you could use regex for this)\n",
    "*correct column names if they're misnamed\n",
    "*correct spelling (for example, you might have a Country column with an entry that says \"Unted States of America\".)\n",
    "*There are hundreds of other things you could fix depending on the issues, so don't worry about whether or not your fix \"counts\" for the check. It most likely will if you're fixing something."
   ]
  },
  {
   "cell_type": "code",
   "execution_count": null,
   "metadata": {
    "vscode": {
     "languageId": "plaintext"
    }
   },
   "outputs": [],
   "source": []
  },
  {
   "attachments": {},
   "cell_type": "markdown",
   "metadata": {},
   "source": [
    "Commit your changes."
   ]
  },
  {
   "cell_type": "code",
   "execution_count": null,
   "metadata": {
    "vscode": {
     "languageId": "plaintext"
    }
   },
   "outputs": [],
   "source": []
  },
  {
   "attachments": {},
   "cell_type": "markdown",
   "metadata": {},
   "source": [
    "Push your changes to GitHub, and make sure to turn in the GitHub link into Google Classroom."
   ]
  },
  {
   "cell_type": "code",
   "execution_count": null,
   "metadata": {
    "vscode": {
     "languageId": "plaintext"
    }
   },
   "outputs": [],
   "source": []
  }
 ],
 "metadata": {
  "language_info": {
   "name": "python"
  },
  "orig_nbformat": 4
 },
 "nbformat": 4,
 "nbformat_minor": 2
}
